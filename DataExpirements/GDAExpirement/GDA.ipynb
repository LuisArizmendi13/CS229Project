{
 "cells": [
  {
   "cell_type": "code",
   "execution_count": 1,
   "metadata": {},
   "outputs": [
    {
     "name": "stdout",
     "output_type": "stream",
     "text": [
      "Training Time: 129.6333 seconds\n",
      "Model Accuracy: 16.99%\n"
     ]
    }
   ],
   "source": [
    "import os\n",
    "import time\n",
    "import numpy as np\n",
    "import cv2\n",
    "from sklearn.model_selection import train_test_split\n",
    "from sklearn.metrics import accuracy_score\n",
    "\n",
    "class GDA:\n",
    "    def __init__(self, verbose=True):\n",
    "        self.theta = None\n",
    "        self.theta_0 = None\n",
    "        self.verbose = verbose\n",
    "    \n",
    "    def fit(self, x, y):\n",
    "        n_examples, dim = x.shape[0], x.shape[1]  \n",
    "        phi = np.sum(y) / n_examples \n",
    "        mu0 = np.mean(x[y == 0], axis=0) if np.sum(y == 0) > 0 else np.zeros(dim)\n",
    "        mu1 = np.mean(x[y == 1], axis=0) if np.sum(y == 1) > 0 else np.zeros(dim)\n",
    "        sigma = np.zeros((dim, dim)) \n",
    "        for i in range(n_examples): \n",
    "            mu = mu0 if y[i] == 0 else mu1\n",
    "            sigma += np.outer((x[i] - mu), (x[i] - mu))\n",
    "        sigma = sigma / n_examples if n_examples > 0 else np.eye(dim)\n",
    "        sigma_inv = np.linalg.inv(sigma + 1e-3 * np.eye(dim))\n",
    "        self.theta = sigma_inv @ (mu1 - mu0)\n",
    "        self.theta_0 = (\n",
    "            -0.5 * mu1.T @ sigma_inv @ mu1\n",
    "            + 0.5 * mu0.T @ sigma_inv @ mu0\n",
    "            + np.log((phi + 1e-5) / (1 - phi + 1e-5))\n",
    "        )\n",
    "        self.theta = np.concatenate([[self.theta_0], self.theta])\n",
    "\n",
    "    def predict(self, x):\n",
    "        z = np.clip(x @ self.theta + self.theta_0, -100, 100)\n",
    "        return 1 / (1 + np.exp(-z))\n",
    "\n",
    "dataset_path = \"../../CNNExpirement/dataset\"\n",
    "classes = {\"Strawberry___Leaf_scorch\": 0, \"Strawberry__healthy\": 1}\n",
    "IMG_SIZE = (64, 64)\n",
    "\n",
    "def load_images():\n",
    "    X, y = [], []\n",
    "    for class_name, label in classes.items():\n",
    "        folder_path = os.path.join(dataset_path, class_name)\n",
    "        if not os.path.exists(folder_path):\n",
    "            continue\n",
    "        for file in os.listdir(folder_path):\n",
    "            if file.lower().endswith((\".jpeg\", \".jpg\", \".png\")):\n",
    "                img_path = os.path.join(folder_path, file)\n",
    "                img = cv2.imread(img_path, cv2.IMREAD_GRAYSCALE)\n",
    "                if img is None:\n",
    "                    continue\n",
    "                img = cv2.resize(img, IMG_SIZE)\n",
    "                img = img / 255.0\n",
    "                X.append(img.flatten())\n",
    "                y.append(label)\n",
    "    X, y = np.array(X), np.array(y)\n",
    "    if X.size == 0 or y.size == 0:\n",
    "        raise ValueError(\"No images were loaded.\")\n",
    "    return X, y\n",
    "\n",
    "X, y = load_images()\n",
    "X_train, X_test, y_train, y_test = train_test_split(X, y, test_size=0.2, random_state=42)\n",
    "\n",
    "start_time = time.time()\n",
    "clf = GDA()\n",
    "clf.fit(X_train, y_train)\n",
    "training_time = time.time() - start_time\n",
    "\n",
    "X_test_with_bias = np.hstack([np.ones((X_test.shape[0], 1)), X_test])\n",
    "y_pred = clf.predict(X_test_with_bias) > 0.5\n",
    "accuracy = accuracy_score(y_test, y_pred)\n",
    "\n",
    "print(f\"Training Time: {training_time:.4f} seconds\")\n",
    "print(f\"Model Accuracy: {accuracy * 100:.2f}%\")"
   ]
  }
 ],
 "metadata": {
  "kernelspec": {
   "display_name": "Python 3",
   "language": "python",
   "name": "python3"
  },
  "language_info": {
   "codemirror_mode": {
    "name": "ipython",
    "version": 3
   },
   "file_extension": ".py",
   "mimetype": "text/x-python",
   "name": "python",
   "nbconvert_exporter": "python",
   "pygments_lexer": "ipython3",
   "version": "3.11.11"
  }
 },
 "nbformat": 4,
 "nbformat_minor": 2
}
