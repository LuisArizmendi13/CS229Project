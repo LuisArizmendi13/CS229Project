{
 "cells": [
  {
   "cell_type": "code",
   "execution_count": 1,
   "metadata": {},
   "outputs": [
    {
     "name": "stdout",
     "output_type": "stream",
     "text": [
      "Final theta: [ 2.12232128e+00  1.94647798e+00  1.51035172e+00  1.26521290e+00\n",
      "  2.47729968e-01  4.89865890e-01  4.62779309e-01 -3.53734666e+01\n",
      " -3.11471327e+00  6.31368492e-02  3.90318065e-01  1.03365510e-01\n",
      "  1.96699284e-01  1.57516536e-01  2.52706958e-01  3.20159621e-01\n",
      "  3.10080087e-01  2.22655795e-01  1.94715083e-01  1.12569795e-01\n",
      "  2.51852614e-01  6.84318236e+01  1.33062108e+00  1.11205371e+00\n",
      "  1.99826630e-01]\n",
      "LR Accuracy: 0.86\n"
     ]
    }
   ],
   "source": [
    "import numpy as np\n",
    "import pandas as pd\n",
    "\n",
    "class LogisticRegression:\n",
    "    def __init__(self, step_size=0.01, max_iter=10000, eps=1e-5, theta_0=None, verbose=True):\n",
    "        self.theta = theta_0\n",
    "        self.step_size = step_size\n",
    "        self.max_iter = max_iter\n",
    "        self.eps = eps\n",
    "        self.verbose = verbose\n",
    "\n",
    "    def fit(self, x, y):\n",
    "        n_examples, dim = x.shape\n",
    "        if self.theta is None:\n",
    "            self.theta = np.zeros(dim)\n",
    "\n",
    "        for i in range(self.max_iter):\n",
    "            z = np.clip(x.dot(self.theta), -500, 500)\n",
    "            h_theta = 1 / (1 + np.exp(-z))\n",
    "            gradient = x.T.dot(h_theta - y) / n_examples\n",
    "            theta_new = self.theta - self.step_size * gradient\n",
    "\n",
    "            if np.linalg.norm(theta_new - self.theta, 1) < self.eps:\n",
    "                self.theta = theta_new\n",
    "                if self.verbose:\n",
    "                    print(f'Converged in {i + 1} iterations')\n",
    "                return\n",
    "\n",
    "            self.theta = theta_new\n",
    "\n",
    "        if self.verbose:\n",
    "            print('Final theta:', self.theta)\n",
    "\n",
    "    def predict(self, x):\n",
    "        \"\"\"Return predicted probabilities given new inputs x.\"\"\"\n",
    "        z = np.clip(x.dot(self.theta), -500, 500)\n",
    "        return 1 / (1 + np.exp(-z))\n",
    "\n",
    "\n",
    "def main(train_csv, save_path):\n",
    "    dataset = pd.read_csv(train_csv)\n",
    "    X = dataset.drop(columns=['Label']).values\n",
    "    y = dataset['Label'].values\n",
    "    \n",
    "    # Add intercept\n",
    "    X = np.c_[np.ones(X.shape[0]), X]\n",
    "    \n",
    "    # Train model\n",
    "    clf = LogisticRegression()\n",
    "    clf.fit(X, y)\n",
    "    \n",
    "    # Predictions\n",
    "    p_eval = clf.predict(X)\n",
    "    yhat = p_eval > 0.5\n",
    "    print('LR Accuracy: %.2f' % np.mean(yhat == y))\n",
    "    np.savetxt(save_path, p_eval)\n",
    "\n",
    "if __name__ == '__main__':\n",
    "    main(train_csv='../extracted_features.csv', save_path='logreg_predictions.txt')\n"
   ]
  }
 ],
 "metadata": {
  "kernelspec": {
   "display_name": "Python 3",
   "language": "python",
   "name": "python3"
  },
  "language_info": {
   "codemirror_mode": {
    "name": "ipython",
    "version": 3
   },
   "file_extension": ".py",
   "mimetype": "text/x-python",
   "name": "python",
   "nbconvert_exporter": "python",
   "pygments_lexer": "ipython3",
   "version": "3.11.11"
  }
 },
 "nbformat": 4,
 "nbformat_minor": 2
}
